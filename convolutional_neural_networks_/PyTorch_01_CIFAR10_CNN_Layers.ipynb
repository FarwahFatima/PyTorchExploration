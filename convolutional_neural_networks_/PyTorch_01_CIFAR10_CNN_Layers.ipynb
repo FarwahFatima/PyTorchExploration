{
  "cells": [
    {
      "cell_type": "code",
      "execution_count": 1,
      "metadata": {
        "id": "7uFXwF2zPPCZ"
      },
      "outputs": [],
      "source": [
        "import torch.nn as nn\n",
        "import numpy as np\n",
        "import matplotlib.pyplot as plt\n",
        "import torch\n",
        "from torchvision.transforms import ToTensor\n",
        "import torchvision"
      ]
    },
    {
      "cell_type": "code",
      "execution_count": 2,
      "metadata": {
        "colab": {
          "base_uri": "https://localhost:8080/"
        },
        "id": "yCxaWB3HPmn_",
        "outputId": "1536e767-1626-45b5-cb31-e4f32bc8513a"
      },
      "outputs": [
        {
          "name": "stdout",
          "output_type": "stream",
          "text": [
            "Files already downloaded and verified\n",
            "Files already downloaded and verified\n"
          ]
        }
      ],
      "source": [
        "train_data = torchvision.datasets.CIFAR10(root='data', train=True, transform=ToTensor(), target_transform=None, download = True )\n",
        "test_data = torchvision.datasets.CIFAR10(root='data', train=False, transform=ToTensor(), download=True)"
      ]
    },
    {
      "cell_type": "code",
      "execution_count": 3,
      "metadata": {
        "id": "_2KU6ElKRrGH"
      },
      "outputs": [],
      "source": [
        "img, label = train_data[25]\n",
        "# img, label"
      ]
    },
    {
      "cell_type": "code",
      "execution_count": 4,
      "metadata": {
        "colab": {
          "base_uri": "https://localhost:8080/",
          "height": 447
        },
        "id": "nXd7qnnOSJ5J",
        "outputId": "759fb466-11ef-4eb2-e5f8-269435287cab"
      },
      "outputs": [
        {
          "data": {
            "text/plain": [
              "<matplotlib.image.AxesImage at 0x7c7da7c6bf70>"
            ]
          },
          "execution_count": 4,
          "metadata": {},
          "output_type": "execute_result"
        },
        {
          "data": {
            "image/png": "[encoded data removed]",
            "text/plain": [
              "<Figure size 640x480 with 1 Axes>"
            ]
          },
          "metadata": {},
          "output_type": "display_data"
        }
      ],
      "source": [
        "plt.imshow(img.numpy().transpose((1, 2, 0)))"
      ]
    },
    {
      "cell_type": "code",
      "execution_count": 5,
      "metadata": {
        "colab": {
          "base_uri": "https://localhost:8080/"
        },
        "id": "EId9SDmTSo2J",
        "outputId": "bb5ea6b6-bb33-4a91-cd13-b8a062771581"
      },
      "outputs": [
        {
          "data": {
            "text/plain": [
              "torch.Size([3, 32, 32])"
            ]
          },
          "execution_count": 5,
          "metadata": {},
          "output_type": "execute_result"
        }
      ],
      "source": [
        "i, l = train_data[0]\n",
        "i.shape"
      ]
    },
    {
      "cell_type": "code",
      "execution_count": 6,
      "metadata": {
        "colab": {
          "base_uri": "https://localhost:8080/"
        },
        "id": "5aqdJORQTm4_",
        "outputId": "fb4e4db9-cc97-412d-f67f-57b71c9dd85d"
      },
      "outputs": [
        {
          "data": {
            "text/plain": [
              "50000"
            ]
          },
          "execution_count": 6,
          "metadata": {},
          "output_type": "execute_result"
        }
      ],
      "source": [
        "len(train_data)"
      ]
    },
    {
      "cell_type": "code",
      "execution_count": 7,
      "metadata": {
        "colab": {
          "base_uri": "https://localhost:8080/"
        },
        "id": "vRjVDi_fUBjV",
        "outputId": "eff07359-3a97-42b8-9977-b2303693309f"
      },
      "outputs": [
        {
          "data": {
            "text/plain": [
              "['airplane',\n",
              " 'automobile',\n",
              " 'bird',\n",
              " 'cat',\n",
              " 'deer',\n",
              " 'dog',\n",
              " 'frog',\n",
              " 'horse',\n",
              " 'ship',\n",
              " 'truck']"
            ]
          },
          "execution_count": 7,
          "metadata": {},
          "output_type": "execute_result"
        }
      ],
      "source": [
        "classes = train_data.classes\n",
        "classes"
      ]
    },
    {
      "cell_type": "code",
      "execution_count": 8,
      "metadata": {
        "id": "L6ohIY-qo5i2"
      },
      "outputs": [],
      "source": [
        "from torch.utils.data import DataLoader\n",
        "\n",
        "train_dataloader = DataLoader(train_data, batch_size=32, shuffle=True)\n",
        "test_dataloader = DataLoader(test_data, batch_size=32, shuffle=False)"
      ]
    },
    {
      "cell_type": "code",
      "execution_count": 9,
      "metadata": {
        "id": "FOXgi--ao3qL"
      },
      "outputs": [],
      "source": [
        "train_features_batch, train_labels_batch = next(iter(train_dataloader))"
      ]
    },
    {
      "cell_type": "code",
      "execution_count": 10,
      "metadata": {
        "colab": {
          "base_uri": "https://localhost:8080/"
        },
        "id": "d1XPfqVLnlf4",
        "outputId": "18dbe92c-e70f-4165-ada1-349ed44d5782"
      },
      "outputs": [
        {
          "data": {
            "text/plain": [
              "torch.Size([3, 1024])"
            ]
          },
          "execution_count": 10,
          "metadata": {},
          "output_type": "execute_result"
        }
      ],
      "source": [
        "f = nn.Flatten()\n",
        "f(train_features_batch[1]).shape"
      ]
    },
    {
      "cell_type": "code",
      "execution_count": 11,
      "metadata": {
        "id": "Tixe8nFsT5pG"
      },
      "outputs": [],
      "source": [
        "class CIFAR1000(nn.Module):\n",
        "  def __init__(self, input_layer, hidden_layer, output_layer):\n",
        "    super().__init__()\n",
        "    self.b1 = nn.Sequential(nn.Conv2d(in_channels=input_layer, out_channels=hidden_layer, kernel_size=3, stride=1, padding=1),\n",
        "                                nn.ReLU(),\n",
        "                                torch.nn.Conv2d(in_channels=hidden_layer, out_channels=hidden_layer, kernel_size=3, stride=1, padding=1),\n",
        "                                nn.ReLU(),\n",
        "                                nn.MaxPool2d(kernel_size=2, stride=2))\n",
        "    self.b2 = nn.Sequential(nn.Conv2d(in_channels=hidden_layer, out_channels=hidden_layer, kernel_size=3, padding=1),\n",
        "                                nn.ReLU(),\n",
        "                                torch.nn.Conv2d(in_channels=hidden_layer, out_channels=hidden_layer, kernel_size=3, padding=1),\n",
        "                                nn.ReLU(),\n",
        "                                nn.MaxPool2d(kernel_size=2, stride=2))\n",
        "    self.classify = nn.Sequential(nn.Flatten(),\n",
        "                                  nn.Linear(in_features=hidden_layer*8*8, out_features=output_layer),\n",
        "                                  nn.Softmax(dim=-1))\n",
        "\n",
        "  def forward(self, x):\n",
        "    x = self.b1(x)\n",
        "    x = self.b2(x)\n",
        "    x = self.classify(x)\n",
        "    return x\n"
      ]
    },
    {
      "cell_type": "code",
      "execution_count": 12,
      "metadata": {
        "colab": {
          "base_uri": "https://localhost:8080/"
        },
        "id": "IdN8I53InbUO",
        "outputId": "e048d646-c7b6-401a-e3ff-c0855ef04f1b"
      },
      "outputs": [
        {
          "data": {
            "text/plain": [
              "CIFAR1000(\n",
              "  (b1): Sequential(\n",
              "    (0): Conv2d(3, 40, kernel_size=(3, 3), stride=(1, 1), padding=(1, 1))\n",
              "    (1): ReLU()\n",
              "    (2): Conv2d(40, 40, kernel_size=(3, 3), stride=(1, 1), padding=(1, 1))\n",
              "    (3): ReLU()\n",
              "    (4): MaxPool2d(kernel_size=2, stride=2, padding=0, dilation=1, ceil_mode=False)\n",
              "  )\n",
              "  (b2): Sequential(\n",
              "    (0): Conv2d(40, 40, kernel_size=(3, 3), stride=(1, 1), padding=(1, 1))\n",
              "    (1): ReLU()\n",
              "    (2): Conv2d(40, 40, kernel_size=(3, 3), stride=(1, 1), padding=(1, 1))\n",
              "    (3): ReLU()\n",
              "    (4): MaxPool2d(kernel_size=2, stride=2, padding=0, dilation=1, ceil_mode=False)\n",
              "  )\n",
              "  (classify): Sequential(\n",
              "    (0): Flatten(start_dim=1, end_dim=-1)\n",
              "    (1): Linear(in_features=2560, out_features=10, bias=True)\n",
              "    (2): Softmax(dim=-1)\n",
              "  )\n",
              ")"
            ]
          },
          "execution_count": 12,
          "metadata": {},
          "output_type": "execute_result"
        }
      ],
      "source": [
        "model = CIFAR1000(input_layer= 3,\n",
        "                  hidden_layer=40,\n",
        "                  output_layer=len(classes))\n",
        "model\n"
      ]
    },
    {
      "cell_type": "code",
      "execution_count": 13,
      "metadata": {
        "id": "CNKhkW0xsuv2"
      },
      "outputs": [],
      "source": [
        "loss_fn = nn.CrossEntropyLoss()\n",
        "optimizer = torch.optim.Adam(model.parameters(), lr=0.001)"
      ]
    },
    {
      "cell_type": "code",
      "execution_count": 14,
      "metadata": {
        "id": "4fwO1sDbu4tp"
      },
      "outputs": [],
      "source": [
        "def accuracy_fn(y_true, y_pred):\n",
        "    correct = torch.eq(y_true, y_pred).sum().item()\n",
        "    acc = (correct / len(y_pred)) * 100\n",
        "    return acc"
      ]
    },
    {
      "cell_type": "code",
      "execution_count": 15,
      "metadata": {
        "id": "4sN9qn2VfP_V"
      },
      "outputs": [],
      "source": [
        "def training(model: torch.nn.Module,\n",
        "               data_loader: torch.utils.data.DataLoader,\n",
        "               loss_fn: torch.nn.Module,\n",
        "               optimizer: torch.optim.Optimizer,\n",
        "               accuracy_fn):\n",
        "  train_loss, train_acc = 0, 0\n",
        "  for batch, (X, y) in enumerate(data_loader):\n",
        "    y_pred = model(X)\n",
        "    loss = loss_fn(y_pred, y)\n",
        "    train_loss += loss\n",
        "    train_acc += accuracy_fn(y_true=y,\n",
        "                              y_pred=y_pred.argmax(dim=1))\n",
        "    optimizer.zero_grad()\n",
        "    loss.backward()\n",
        "    optimizer.step()\n",
        "  train_loss /= len(data_loader)\n",
        "  train_acc /= len(data_loader)\n",
        "  print(f\"Train loss: {train_loss:.5f} | Train accuracy: {train_acc:.2f}%\")\n",
        "\n",
        "def testing(data_loader: torch.utils.data.DataLoader,\n",
        "              model: torch.nn.Module,\n",
        "              loss_fn: torch.nn.Module,\n",
        "              accuracy_fn):\n",
        "  test_loss, test_acc = 0, 0\n",
        "  model.eval()\n",
        "  with torch.inference_mode():\n",
        "    for X, y in data_loader:\n",
        "      test_pred = model(X)\n",
        "      test_loss += loss_fn(test_pred, y)\n",
        "      test_acc += accuracy_fn(y_true=y,\n",
        "          y_pred=test_pred.argmax(dim=1)\n",
        "      )\n",
        "    test_loss /= len(data_loader)\n",
        "    test_acc /= len(data_loader)\n",
        "    print(f\"Test loss: {test_loss:.5f} | Test accuracy: {test_acc:.2f}%\\n\")"
      ]
    },
    {
      "cell_type": "code",
      "execution_count": 16,
      "metadata": {
        "colab": {
          "base_uri": "https://localhost:8080/"
        },
        "id": "QBiggSjCgR7V",
        "outputId": "ddcacb6c-e343-4259-c738-e722c7b97214"
      },
      "outputs": [
        {
          "name": "stdout",
          "output_type": "stream",
          "text": [
            "Epoch: 0\n",
            "---------\n",
            "Train loss: 2.09525 | Train accuracy: 35.82%\n",
            "Test loss: 2.02883 | Test accuracy: 42.67%\n",
            "\n",
            "Epoch: 1\n",
            "---------\n",
            "Train loss: 1.99019 | Train accuracy: 46.63%\n",
            "Test loss: 1.97051 | Test accuracy: 48.63%\n",
            "\n",
            "Epoch: 2\n",
            "---------\n",
            "Train loss: 1.94343 | Train accuracy: 51.36%\n",
            "Test loss: 1.93978 | Test accuracy: 51.71%\n",
            "\n",
            "Epoch: 3\n",
            "---------\n",
            "Train loss: 1.90957 | Train accuracy: 54.83%\n",
            "Test loss: 1.89598 | Test accuracy: 56.14%\n",
            "\n",
            "Epoch: 4\n",
            "---------\n",
            "Train loss: 1.88238 | Train accuracy: 57.59%\n",
            "Test loss: 1.89030 | Test accuracy: 56.75%\n",
            "\n",
            "Epoch: 5\n",
            "---------\n",
            "Train loss: 1.86428 | Train accuracy: 59.38%\n",
            "Test loss: 1.87209 | Test accuracy: 58.53%\n",
            "\n",
            "Epoch: 6\n",
            "---------\n",
            "Train loss: 1.84970 | Train accuracy: 60.98%\n",
            "Test loss: 1.86826 | Test accuracy: 59.02%\n",
            "\n",
            "Epoch: 7\n",
            "---------\n",
            "Train loss: 1.83730 | Train accuracy: 62.18%\n",
            "Test loss: 1.85790 | Test accuracy: 60.03%\n",
            "\n",
            "Epoch: 8\n",
            "---------\n",
            "Train loss: 1.82585 | Train accuracy: 63.40%\n",
            "Test loss: 1.86323 | Test accuracy: 59.58%\n",
            "\n",
            "Epoch: 9\n",
            "---------\n",
            "Train loss: 1.82089 | Train accuracy: 63.77%\n",
            "Test loss: 1.85851 | Test accuracy: 60.01%\n",
            "\n"
          ]
        }
      ],
      "source": [
        "epochs = 10\n",
        "for epoch in range(epochs):\n",
        "    print(f\"Epoch: {epoch}\\n---------\")\n",
        "    training(data_loader=train_dataloader,\n",
        "        model=model,\n",
        "        loss_fn=loss_fn,\n",
        "        optimizer=optimizer,\n",
        "        accuracy_fn=accuracy_fn\n",
        "    )\n",
        "    testing(data_loader=test_dataloader,\n",
        "        model=model,\n",
        "        loss_fn=loss_fn,\n",
        "        accuracy_fn=accuracy_fn\n",
        "    )"
      ]
    },
    {
      "cell_type": "markdown",
      "metadata": {
        "id": "PlybC-165iIk"
      },
      "source": []
    },
    {
      "cell_type": "markdown",
      "metadata": {},
      "source": [
        "not very well performance, to deal with this from now exploring different architectures"
      ]
    },
    {
      "cell_type": "code",
      "execution_count": 16,
      "metadata": {
        "id": "zoLCbEPjgVsu"
      },
      "outputs": [],
      "source": []
    }
  ],
  "metadata": {
    "colab": {
      "provenance": []
    },
    "kernelspec": {
      "display_name": "Python 3",
      "name": "python3"
    },
    "language_info": {
      "name": "python"
    }
  },
  "nbformat": 4,
  "nbformat_minor": 0
}
